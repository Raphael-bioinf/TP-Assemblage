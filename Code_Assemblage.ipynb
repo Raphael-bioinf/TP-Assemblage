{
 "cells": [
  {
   "cell_type": "code",
   "execution_count": 6,
   "metadata": {},
   "outputs": [
    {
     "name": "stdout",
     "output_type": "stream",
     "text": [
      "TCAGAGCTCTAGAGTTGGTTCTGAGAGAGATCGGTTACTCGGAGGAGGCTGTGTCACTCATAGAAGGGATCAATCACACCCACCACGTGTACCGAAACAA\n",
      "TCACAGAGAGAGAGCGCTCTCTCTCTATAGAGAGAGAGTGTTTTGTGGGGTGTTTTCTCTCTGTGAGAGAGAGAGAGAGAGAGAGATATCTCGCGGGGTGTTTTATACACTCTCTCGCGGGGAGAGAGGGGAGAGAGGGGCGCTCTGTGTGTGTGTGTCTCACACACTCTCTCACATATATAGAGAGAAAAGAGGGGGGGAGATATCTCACAAAATATCTCACACACACACACCCCCCCACACACCCCACACACGCGTGTGTGTGTATACACCCCGCGAGAAAAAAACACACAA"
     ]
    }
   ],
   "source": [
    "def read_fastq(fichier : str):\n",
    "    with open(fichier) as filin:\n",
    "        for line in enumerate(filin):\n",
    "            yield next(filin)[:-1]\n",
    "            next(filin)\n",
    "            next(filin)\n",
    "\n",
    "def cut_kmer(seq : str,k : int):\n",
    "    for i in range(len(seq)-k+1):\n",
    "        yield seq[i:i+k]\n",
    "        \n",
    "if __name__==\"__main__\" :\n",
    "    for i in read_fastq(\"data\\eva71_plus_perfect.fq\"):\n",
    "        print(i)\n",
    "        for j in cut_kmer(i,k=3):\n",
    "            print(j,end='')\n",
    "        break\n"
   ]
  }
 ],
 "metadata": {
  "kernelspec": {
   "display_name": "Python 3",
   "language": "python",
   "name": "python3"
  },
  "language_info": {
   "codemirror_mode": {
    "name": "ipython",
    "version": 3
   },
   "file_extension": ".py",
   "mimetype": "text/x-python",
   "name": "python",
   "nbconvert_exporter": "python",
   "pygments_lexer": "ipython3",
   "version": "3.8.5"
  }
 },
 "nbformat": 4,
 "nbformat_minor": 4
}
